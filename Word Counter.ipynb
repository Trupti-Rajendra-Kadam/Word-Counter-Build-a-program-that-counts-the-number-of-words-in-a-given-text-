{
 "cells": [
  {
   "cell_type": "markdown",
   "id": "a837a619",
   "metadata": {},
   "source": [
    "# Word Counter \n",
    "(Build a program that counts the number of words in a given text)\n"
   ]
  },
  {
   "cell_type": "code",
   "execution_count": null,
   "id": "f7fcafe3",
   "metadata": {},
   "outputs": [],
   "source": [
    "def word_count(input_text):\n",
    "    \"\"\"\n",
    "    Count the number of words in the given input text.\n",
    "    \n",
    "    Args:\n",
    "        input_text (str): The input text to analyze.\n",
    "    \n",
    "    Returns:\n",
    "        int: The word count.\n",
    "    \"\"\"\n",
    "    words = input_text.split()\n",
    "    return len(words)\n",
    "\n",
    "def main():\n",
    "    # User Input\n",
    "    user_input = input(\"Enter a sentence or paragraph: \").strip()\n",
    "\n",
    "    try:\n",
    "        # Word Counting Logic\n",
    "        count = word_count(user_input)\n",
    "\n",
    "        # Output Display\n",
    "        print(f\"Word Count: {count}\")\n",
    "\n",
    "    except ValueError:\n",
    "        print(\"Error: Input is empty. Please enter some text.\")\n",
    "\n",
    "if __name__ == \"__main__\":\n",
    "    # User-Friendly Interface\n",
    "    print(\"Word Count Program\")\n",
    "    print(\"----------------------------\")\n",
    "    main()\n"
   ]
  },
  {
   "cell_type": "code",
   "execution_count": null,
   "id": "e6fd8fc4",
   "metadata": {},
   "outputs": [],
   "source": []
  }
 ],
 "metadata": {
  "kernelspec": {
   "display_name": "Python 3 (ipykernel)",
   "language": "python",
   "name": "python3"
  },
  "language_info": {
   "codemirror_mode": {
    "name": "ipython",
    "version": 3
   },
   "file_extension": ".py",
   "mimetype": "text/x-python",
   "name": "python",
   "nbconvert_exporter": "python",
   "pygments_lexer": "ipython3",
   "version": "3.9.7"
  }
 },
 "nbformat": 4,
 "nbformat_minor": 5
}
